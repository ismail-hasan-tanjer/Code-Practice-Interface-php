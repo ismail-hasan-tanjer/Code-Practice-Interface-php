{
  "nbformat": 4,
  "nbformat_minor": 0,
  "metadata": {
    "colab": {
      "provenance": [],
      "authorship_tag": "ABX9TyP3sPw8GuC86IlEUgt6pHV3",
      "include_colab_link": true
    },
    "kernelspec": {
      "name": "python3",
      "display_name": "Python 3"
    },
    "language_info": {
      "name": "python"
    }
  },
  "cells": [
    {
      "cell_type": "markdown",
      "metadata": {
        "id": "view-in-github",
        "colab_type": "text"
      },
      "source": [
        "<a href=\"https://colab.research.google.com/github/ismail-hasan-tanjer/Code-Practice-Interface-php/blob/main/Basic_Calculator_by_Python.ipynb\" target=\"_parent\"><img src=\"https://colab.research.google.com/assets/colab-badge.svg\" alt=\"Open In Colab\"/></a>"
      ]
    },
    {
      "cell_type": "code",
      "execution_count": null,
      "metadata": {
        "id": "KmSLk6_fbFnp"
      },
      "outputs": [],
      "source": [
        "def add(x, y):\n",
        "    return x + y\n",
        "\n",
        "def subtract(x, y):\n",
        "    return x - y\n",
        "\n",
        "def multiply(x, y):\n",
        "    return x * y\n",
        "\n",
        "def divide(x, y):\n",
        "    if y != 0:\n",
        "        return x / y\n",
        "    else:\n",
        "        return \"Cannot divide by zero\"\n",
        "\n",
        "print(\"Select operation:\")\n",
        "print(\"1. Add\")\n",
        "print(\"2. Subtract\")\n",
        "print(\"3. Multiply\")\n",
        "print(\"4. Divide\")\n",
        "\n",
        "choice = input(\"Enter choice (1/2/3/4): \")\n",
        "\n",
        "num1 = float(input(\"Enter first number: \"))\n",
        "num2 = float(input(\"Enter second number: \"))\n",
        "\n",
        "if choice == '1':\n",
        "    result = add(num1, num2)\n",
        "    print(f\"{num1} + {num2} = {result}\")\n",
        "\n",
        "elif choice == '2':\n",
        "    result = subtract(num1, num2)\n",
        "    print(f\"{num1} - {num2} = {result}\")\n",
        "\n",
        "elif choice == '3':\n",
        "    result = multiply(num1, num2)\n",
        "    print(f\"{num1} * {num2} = {result}\")\n",
        "\n",
        "elif choice == '4':\n",
        "    result = divide(num1, num2)\n",
        "    print(f\"{num1} / {num2} = {result}\")\n",
        "\n",
        "else:\n",
        "    print(\"Invalid input\")\n"
      ]
    }
  ]
}